{
 "cells": [
  {
   "cell_type": "markdown",
   "metadata": {},
   "source": [
    "## Example 1: Bernoulli Naive Bayes"
   ]
  },
  {
   "cell_type": "code",
   "execution_count": 1,
   "metadata": {},
   "outputs": [
    {
     "data": {
      "text/plain": [
       "[np.int64(1), np.int64(2), np.int64(3), np.int64(4), np.int64(4), np.int64(5)]"
      ]
     },
     "execution_count": 1,
     "metadata": {},
     "output_type": "execute_result"
    }
   ],
   "source": [
    "# Example 1: Bernoulli Naive Bayes\n",
    "\n",
    "import numpy as np\n",
    "from sklearn.naive_bayes import BernoulliNB\n",
    "\n",
    "# Generating random binary data (0 or 1) for 6 samples with 100 features each\n",
    "X = np.random.randint(2, size=(6, 100))\n",
    "\n",
    "# Assigning labels to the samples\n",
    "y = np.array([1, 2, 3, 4, 4, 5])\n",
    "\n",
    "# Initializing and training the Bernoulli Naive Bayes classifier\n",
    "clf = BernoulliNB()\n",
    "clf.fit(X, y)\n",
    "\n",
    "# Making predictions for each sample\n",
    "predictions_bernoulli = [clf.predict(X[i:(i+1)])[0] for i in range(6)]\n",
    "predictions_bernoulli\n"
   ]
  },
  {
   "cell_type": "markdown",
   "metadata": {},
   "source": [
    "## Example 2: Multinomial Naive Bayes"
   ]
  },
  {
   "cell_type": "code",
   "execution_count": 2,
   "metadata": {},
   "outputs": [
    {
     "data": {
      "text/plain": [
       "[np.int64(1), np.int64(2), np.int64(3), np.int64(4), np.int64(5), np.int64(6)]"
      ]
     },
     "execution_count": 2,
     "metadata": {},
     "output_type": "execute_result"
    }
   ],
   "source": [
    "from sklearn.naive_bayes import MultinomialNB\n",
    "\n",
    "# Generating random integer data between 0 and 4 for 6 samples with 100 features each\n",
    "X = np.random.randint(5, size=(6, 100))\n",
    "\n",
    "# Assigning labels to the samples\n",
    "y = np.array([1, 2, 3, 4, 5, 6])\n",
    "\n",
    "# Initializing and training the Multinomial Naive Bayes classifier\n",
    "clf = MultinomialNB()\n",
    "clf.fit(X, y)\n",
    "\n",
    "# Making predictions for each sample\n",
    "predictions_multinomial = [clf.predict(X[i:i+1])[0] for i in range(6)]\n",
    "predictions_multinomial\n"
   ]
  },
  {
   "cell_type": "markdown",
   "metadata": {},
   "source": [
    "## Example 3: Gaussian Naive Bayes\n"
   ]
  },
  {
   "cell_type": "code",
   "execution_count": 3,
   "metadata": {},
   "outputs": [
    {
     "data": {
      "text/plain": [
       "(array([1]), array([1]))"
      ]
     },
     "execution_count": 3,
     "metadata": {},
     "output_type": "execute_result"
    }
   ],
   "source": [
    "from sklearn.naive_bayes import GaussianNB\n",
    "\n",
    "# Defining a simple dataset with two features\n",
    "X = np.array([[-1, -1], [-2, -1], [-3, -2], [1, 1], [2, 1], [3, 2]])\n",
    "\n",
    "# Assigning labels (two classes)\n",
    "y = np.array([1, 1, 1, 2, 2, 2])\n",
    "\n",
    "# Initializing and training the Gaussian Naive Bayes classifier\n",
    "clf = GaussianNB()\n",
    "clf.fit(X, y)\n",
    "\n",
    "# Making a prediction for a new sample\n",
    "prediction_gaussian = clf.predict([[-1, -0.8]])\n",
    "\n",
    "# Using partial fit for incremental learning\n",
    "clf_pf = GaussianNB()\n",
    "clf_pf.partial_fit(X, y, np.unique(y))\n",
    "\n",
    "# Making a prediction with the incrementally trained model\n",
    "prediction_gaussian_pf = clf_pf.predict([[-1, -0.8]])\n",
    "\n",
    "prediction_gaussian, prediction_gaussian_pf\n"
   ]
  },
  {
   "cell_type": "markdown",
   "metadata": {},
   "source": []
  },
  {
   "cell_type": "code",
   "execution_count": 7,
   "metadata": {},
   "outputs": [
    {
     "name": "stdout",
     "output_type": "stream",
     "text": [
      "[[86 44]\n",
      " [77 53]]\n"
     ]
    }
   ],
   "source": [
    "# -*- coding: utf-8 -*-\n",
    "\"\"\"\n",
    "Created on Fri Jan 27 22:53:50 2017\n",
    "@author: Abhijeet Singh\n",
    "\"\"\"\n",
    "import os\n",
    "import numpy as np\n",
    "from collections import Counter\n",
    "from sklearn.naive_bayes import MultinomialNB\n",
    "from sklearn.metrics import confusion_matrix\n",
    "\n",
    "def make_Dictionary(train_dir):\n",
    "    emails = [os.path.join(train_dir, f) for f in os.listdir(train_dir)]\n",
    "    all_words = []\n",
    "    for mail in emails:\n",
    "        with open(mail) as m:\n",
    "            for i, line in enumerate(m):\n",
    "                if i == 2:\n",
    "                    words = line.split()\n",
    "                    all_words += words\n",
    "    dictionary = Counter(all_words)\n",
    "    # list_to_remove = dictionary.keys()\n",
    "    # for item in list_to_remove: # this works with python 2.x version\n",
    "    for item in list(dictionary): # this works with python 3.x version\n",
    "        if item.isalpha() == False:\n",
    "            del dictionary[item]\n",
    "        elif len(item) == 1:\n",
    "            del dictionary[item]\n",
    "    dictionary = dictionary.most_common(3000)\n",
    "    return dictionary\n",
    "def extract_features(mail_dir):\n",
    "    files = [os.path.join(mail_dir, fi) for fi in os.listdir(mail_dir)]\n",
    "    features_matrix = np.zeros((len(files), 3000))\n",
    "    docID = 0\n",
    "    for fil in files:\n",
    "        with open(fil) as fi:\n",
    "            for i, line in enumerate(fi):\n",
    "                if i == 2:\n",
    "                    words = line.split()\n",
    "                    for word in words:\n",
    "                        wordID = 0\n",
    "                        for i, d in enumerate(dictionary):\n",
    "                            if d[0] == word:\n",
    "                                wordID = i\n",
    "                                features_matrix[docID, wordID] = words.count(word)\n",
    "            docID = docID + 1\n",
    "    return features_matrix\n",
    "# Create a dictionary of words with its frequency\n",
    "train_dir = '/Users/hafsaredouane/Downloads/ling-spam/train-mails'\n",
    "\n",
    "dictionary = make_Dictionary(train_dir)\n",
    "# Prepare feature vectors per training mail and its labels\n",
    "train_labels = np.zeros(702) # y=0, ham\n",
    "train_labels[351:701] = 1 # y=1, spam\n",
    "train_matrix = extract_features(train_dir)\n",
    "# Training Naive bayes classifier and its variants\n",
    "model = MultinomialNB()\n",
    "model.fit(train_matrix, train_labels)\n",
    "# Test the unseen mails for Spam\n",
    "test_dir ='/Users/hafsaredouane/Downloads/ling-spam/test-mails'\n",
    "\n",
    "test_matrix = extract_features(test_dir)\n",
    "test_labels = np.zeros(260)\n",
    "test_labels[130:260] = 1\n",
    "result = model.predict(test_matrix)\n",
    "print(confusion_matrix(test_labels, result))"
   ]
  }
 ],
 "metadata": {
  "kernelspec": {
   "display_name": "Python 3",
   "language": "python",
   "name": "python3"
  },
  "language_info": {
   "codemirror_mode": {
    "name": "ipython",
    "version": 3
   },
   "file_extension": ".py",
   "mimetype": "text/x-python",
   "name": "python",
   "nbconvert_exporter": "python",
   "pygments_lexer": "ipython3",
   "version": "3.10.2"
  }
 },
 "nbformat": 4,
 "nbformat_minor": 2
}
